{
 "cells": [
  {
   "cell_type": "code",
   "execution_count": 1,
   "metadata": {},
   "outputs": [],
   "source": [
    "import os\n",
    "import gzip\n",
    "import datetime as dt\n",
    "import pandas as pd\n",
    "from glob import glob\n",
    "from textblob import TextBlob as TB  # sentiment analysis"
   ]
  },
  {
   "cell_type": "code",
   "execution_count": 2,
   "metadata": {},
   "outputs": [],
   "source": [
    "THRESHOLD = 0.1\n",
    "DATA_DIR = '../data/'\n",
    "TWEETS_DATA_DIR = DATA_DIR + 'tweets/'"
   ]
  },
  {
   "cell_type": "code",
   "execution_count": 3,
   "metadata": {},
   "outputs": [
    {
     "name": "stdout",
     "output_type": "stream",
     "text": [
      "505 files with tweets\n"
     ]
    }
   ],
   "source": [
    "# locate files\n",
    "files = glob(TWEETS_DATA_DIR + '*')\n",
    "print(len(files), 'files with tweets')"
   ]
  },
  {
   "cell_type": "code",
   "execution_count": 4,
   "metadata": {},
   "outputs": [],
   "source": [
    "# load one file to play with\n",
    "df = pd.read_csv(gzip.open(files[0]))"
   ]
  },
  {
   "cell_type": "code",
   "execution_count": 5,
   "metadata": {},
   "outputs": [],
   "source": [
    "# generate sentiments\n",
    "df['dirty_sentiment'] = df.text.apply(lambda x: TB(x).sentiment)\n",
    "df['dirty_polarity'] = df.dirty_sentiment.apply(lambda x: x.polarity)\n",
    "df['dirty_subjectivity'] = df.dirty_sentiment.apply(lambda x: x.subjectivity)"
   ]
  },
  {
   "cell_type": "code",
   "execution_count": 6,
   "metadata": {},
   "outputs": [
    {
     "data": {
      "text/plain": [
       "array([[<matplotlib.axes._subplots.AxesSubplot object at 0x7f5d2cbb1dd8>,\n",
       "        <matplotlib.axes._subplots.AxesSubplot object at 0x7f5d2a8b9f60>]],\n",
       "      dtype=object)"
      ]
     },
     "execution_count": 6,
     "metadata": {},
     "output_type": "execute_result"
    }
   ],
   "source": [
    "# plot results\n",
    "df.hist(['dirty_polarity', 'dirty_subjectivity'])"
   ]
  },
  {
   "cell_type": "code",
   "execution_count": 7,
   "metadata": {
    "scrolled": true
   },
   "outputs": [
    {
     "name": "stdout",
     "output_type": "stream",
     "text": [
      "NBT Bank N A NY Has $3,951,000 Position in UnitedHealth Group Incorporated $UNH http://zpr.io/PqvPT  \n",
      "\n",
      "Justice Department Probing Premium Assistance for Dialysis Patients http://www.wsj.com/articles/justice-department-probing-premium-assistance-for-dialysis-patients-1483747046 … $DVA (buffet stock) $UNH \n",
      "\n",
      "Strs Ohio Purchases 28,088 Shares of UnitedHealth Group Incorporated $UNH http://zpr.io/Pq4HW  \n",
      "\n",
      "Weekly Dow #Stocks Trend $NKE $DIS $PFE $UTX $IBM $AAPL $GS $BA $V $MSFT $AXP $GE $MCD $INTC $MMM $VZ $MRK $UNH  @ http://12Stocks.com/dow  \n",
      "\n",
      "Seizert Capital Partners LLC Has $3,810,000 Position in UnitedHealth Group Incorporated $UNH http://www.dailypolitical.com/?p=874281  \n",
      "\n",
      "Seizert Capital Partners LLC Has $3,810,000 Position in UnitedHealth Group Incorporated $UNH http://ift.tt/2iNRTp8  \n",
      "\n",
      "Dow #Stocks Trend $NKE $DIS $UTX $IBM $PFE $AAPL $GS $BA $V $MSFT $MCD $GE $AXP $INTC $MMM $VZ $MRK $UNH $JPM  @ http://12Stocks.com/dow  \n",
      "\n",
      "Obamacare Failed Because It Made More Sense to Remain Uninsured @themotleyfool #stocks $AET, $ANTM, $UNH, $HUMhttp://www.fool.com/investing/2017/01/21/obamacare-failed-because-it-made-more-sense-to-rem.aspx?source=yahoo-2 … \n",
      "\n",
      "UnitedHealth Group Inc. $UNH Position Reduced by Simmons Bank http://ift.tt/2iRePra  \n",
      "\n",
      "UnitedHealth Group Inc. $UNH Position Reduced by Simmons Bank http://www.dailypolitical.com/?p=897644  \n",
      "\n",
      "Trust Investment Advisors Has $1,657,000 Stake in UnitedHealth Group Inc. $UNH http://ift.tt/2jNayUR  \n",
      "\n",
      "Trust Investment Advisors Has $1,657,000 Stake in UnitedHealth Group Inc. $UNH http://www.dailypolitical.com/?p=897570  \n",
      "\n",
      "UnitedHealth Group Inc. $UNH Shares Bought by Huntington National Bank http://zpr.io/PjQgm  \n",
      "\n",
      "2016 leaders and laggards https://seekingalpha.com/news/3232950?source=ansh … $CAT, $UNH, $GS, $JPM, $CVX, $NVDA, $OKE, $FCX, $NEM, $AMAT, $CHTR, $MU, $TMUS, $NKE, \n",
      "\n",
      "Sterling Investment Management Inc. Sells 15 Shares of UnitedHealth Group Incorporated $UNH http://zpr.io/PqXxT  \n",
      "\n",
      "UnitedHealth Group Incorporated $UNH Position Increased by HL Financial Services LLC http://ift.tt/2hHyvNr  \n",
      "\n",
      "UnitedHealth Group Incorporated $UNH Position Increased by HL Financial Services LLC http://www.dailypolitical.com/?p=868722  \n",
      "\n",
      "2016 leaders and laggards $CAT $UNH $GS $JPM $CVX $NVDA $OKE $FCX $NEM $AMAT $CHTR http://www.seekingalpha.com/news/3232950  \n",
      "\n",
      "2016 leaders and laggards $CAT $UNH $GS $JPM $CVX $NVDA $OKE $FCX $NEM $AMAT $CHTR $NKE $KO $DIS $V $PHE #USEFULINFO http://www.seekingalpha.com/news/3232950  \n",
      "\n",
      "MarketCurrents: 2016 leaders and laggards http://seekingalpha.com/news/3232950-2016-leaders-laggards?source=feed_f … $CAT $UNH $GS $JPM \n",
      "\n"
     ]
    }
   ],
   "source": [
    "# lets look at 0 polarity tweets\n",
    "for x in df[df.dirty_polarity==0].text[:20]:\n",
    "    print(x, '\\n')"
   ]
  },
  {
   "cell_type": "code",
   "execution_count": 8,
   "metadata": {},
   "outputs": [
    {
     "name": "stdout",
     "output_type": "stream",
     "text": [
      "True\n",
      "True\n",
      "is the best search engine\n"
     ]
    }
   ],
   "source": [
    "# Maybe links are the problem, lets get rid of them\n",
    "def is_link(s):\n",
    "    X = ['http', 'www']\n",
    "    s = s.lower()\n",
    "    return any(x in s for x in X)\n",
    "\n",
    "def has_link(s):\n",
    "    return any(is_link(x) for x in s.split())\n",
    "\n",
    "def strip_links(s):\n",
    "    s = str(s)\n",
    "    return ' '.join(x for x in s.split() if not is_link(x))\n",
    "\n",
    "s = 'www.google.com is the best search engine'\n",
    "print(is_link(s), has_link(s), strip_links(s), sep='\\n')"
   ]
  },
  {
   "cell_type": "code",
   "execution_count": 9,
   "metadata": {},
   "outputs": [],
   "source": [
    "df['has_link'] = df.text.apply(has_link)\n",
    "df['clear_text'] = df.text.apply(strip_links)\n",
    "df['sentiment'] = df.clear_text.apply(lambda x: TB(x).sentiment)\n",
    "df['polarity'] = df.sentiment.apply(lambda x: x.polarity)\n",
    "df['subjectivity'] = df.sentiment.apply(lambda x: x.subjectivity)"
   ]
  },
  {
   "cell_type": "code",
   "execution_count": 10,
   "metadata": {},
   "outputs": [],
   "source": [
    "df['is_pos'] = df.polarity > THRESHOLD\n",
    "df['is_neg'] = df.polarity < -THRESHOLD"
   ]
  },
  {
   "cell_type": "code",
   "execution_count": 11,
   "metadata": {},
   "outputs": [],
   "source": [
    "df['date'] = df.timestamp.apply(lambda x: pd.Timestamp(x).date())"
   ]
  },
  {
   "cell_type": "code",
   "execution_count": 12,
   "metadata": {},
   "outputs": [],
   "source": [
    "pos = df[df.is_pos].groupby('date').date.count().fillna(0)\n",
    "neg = df[df.is_neg].groupby('date').date.count().fillna(0)"
   ]
  },
  {
   "cell_type": "code",
   "execution_count": 13,
   "metadata": {
    "scrolled": true
   },
   "outputs": [
    {
     "name": "stderr",
     "output_type": "stream",
     "text": [
      "/home/armiamali/.local/lib/python3.7/site-packages/ipykernel_launcher.py:4: RuntimeWarning: invalid value encountered in long_scalars\n",
      "  after removing the cwd from sys.path.\n"
     ]
    }
   ],
   "source": [
    "def calculate_ratio(group):\n",
    "    n_pos = group.is_pos[group.is_pos].count()\n",
    "    n_neg = group.is_pos[group.is_neg].count()\n",
    "    ratio = n_pos/(n_pos+n_neg)\n",
    "    return ratio\n",
    "    \n",
    "ratios = df.groupby('date').apply(calculate_ratio)"
   ]
  },
  {
   "cell_type": "code",
   "execution_count": 14,
   "metadata": {},
   "outputs": [
    {
     "data": {
      "text/plain": [
       "<matplotlib.axes._subplots.AxesSubplot at 0x7f5d26d3b5f8>"
      ]
     },
     "execution_count": 14,
     "metadata": {},
     "output_type": "execute_result"
    },
    {
     "data": {
      "image/png": "[encoded data removed]",
      "text/plain": [
       "<Figure size 432x288 with 1 Axes>"
      ]
     },
     "metadata": {
      "needs_background": "light"
     },
     "output_type": "display_data"
    }
   ],
   "source": [
    "ratios.plot()"
   ]
  },
  {
   "cell_type": "code",
   "execution_count": 15,
   "metadata": {},
   "outputs": [],
   "source": [
    "def get_sentiment(x):\n",
    "    try:\n",
    "        return TB(str(x)).sentiment\n",
    "    except:\n",
    "        pass\n",
    "    return None\n",
    "\n",
    "def parse(filepath):\n",
    "    symbol = os.path.split(filepath)[1]\n",
    "    symbol = symbol[:symbol.find('.')]\n",
    "        \n",
    "    df = pd.read_csv(gzip.open(filepath, 'rt'))\n",
    "    df['clear_text'] = df.text.apply(strip_links)\n",
    "    df['sentiment'] = df.clear_text.apply(lambda x: TB(x).sentiment)\n",
    "    df = df[df.sentiment.notnull()]\n",
    "    df['polarity'] = df.sentiment.apply(lambda x: x.polarity)\n",
    "    df['subjectivity'] = df.sentiment.apply(lambda x: x.subjectivity)\n",
    "    \n",
    "    df['is_pos'] = df.polarity > THRESHOLD\n",
    "    df['is_neg'] = df.polarity < -THRESHOLD\n",
    "    \n",
    "    df['date'] = df.timestamp.apply(lambda x: pd.Timestamp(x).date())\n",
    "    \n",
    "    gb = df.groupby('date')\n",
    "    ratios = gb.apply(calculate_ratio)\n",
    "    counts = gb.date.count()\n",
    "    return symbol, ratios, counts\n",
    "    "
   ]
  },
  {
   "cell_type": "code",
   "execution_count": 21,
   "metadata": {},
   "outputs": [],
   "source": [
    "ratios_df = pd.DataFrame()\n",
    "counts_df = pd.DataFrame()\n",
    "files = glob(TWEETS_DATA_DIR + '*')"
   ]
  },
  {
   "cell_type": "code",
   "execution_count": 31,
   "metadata": {
    "scrolled": true
   },
   "outputs": [
    {
     "name": "stdout",
     "output_type": "stream",
     "text": [
      "../data/tweets/DUK.csv.gz\n"
     ]
    },
    {
     "name": "stderr",
     "output_type": "stream",
     "text": [
      "/home/armiamali/.local/lib/python3.7/site-packages/ipykernel_launcher.py:4: RuntimeWarning: invalid value encountered in long_scalars\n",
      "  after removing the cwd from sys.path.\n"
     ]
    },
    {
     "name": "stdout",
     "output_type": "stream",
     "text": [
      "../data/tweets/ZION.csv.gz\n",
      "../data/tweets/AZO.csv.gz\n",
      "../data/tweets/BAC.csv.gz\n",
      "../data/tweets/ADSK.csv.gz\n",
      "../data/tweets/CTAS.csv.gz\n",
      "../data/tweets/CNC.csv.gz\n",
      "../data/tweets/PSA.csv.gz\n",
      "../data/tweets/PCAR.csv.gz\n",
      "../data/tweets/BDX.csv.gz\n",
      "../data/tweets/FFIV.csv.gz\n",
      "../data/tweets/MU.csv.gz\n",
      "../data/tweets/MDT.csv.gz\n",
      "../data/tweets/FOX.csv.gz\n",
      "../data/tweets/TJX.csv.gz\n",
      "../data/tweets/KORS.csv.gz\n",
      "../data/tweets/NI.csv.gz\n",
      "../data/tweets/COP.csv.gz\n",
      "../data/tweets/SPGI.csv.gz\n",
      "../data/tweets/ALK.csv.gz\n",
      "../data/tweets/RHI.csv.gz\n",
      "../data/tweets/PNW.csv.gz\n",
      "../data/tweets/ORCL.csv.gz\n",
      "../data/tweets/TTWO.csv.gz\n",
      "../data/tweets/BF-B.csv.gz\n",
      "../data/tweets/DFS.csv.gz\n",
      "../data/tweets/SLB.csv.gz\n",
      "../data/tweets/STT.csv.gz\n",
      "../data/tweets/APTV.csv.gz\n",
      "../data/tweets/TXN.csv.gz\n",
      "../data/tweets/UAL.csv.gz\n",
      "../data/tweets/MET.csv.gz\n",
      "../data/tweets/AET.csv.gz\n",
      "../data/tweets/A.csv.gz\n",
      "../data/tweets/EL.csv.gz\n",
      "../data/tweets/HP.csv.gz\n",
      "../data/tweets/FTV.csv.gz\n",
      "../data/tweets/EXPE.csv.gz\n",
      "../data/tweets/RF.csv.gz\n",
      "../data/tweets/FLS.csv.gz\n",
      "../data/tweets/ITW.csv.gz\n",
      "../data/tweets/GIS.csv.gz\n",
      "../data/tweets/NDAQ.csv.gz\n",
      "../data/tweets/GOOG.csv.gz\n",
      "../data/tweets/IVZ.csv.gz\n",
      "../data/tweets/XLNX.csv.gz\n",
      "../data/tweets/HSY.csv.gz\n",
      "../data/tweets/GE.csv.gz\n",
      "../data/tweets/EXPD.csv.gz\n",
      "../data/tweets/ETR.csv.gz\n",
      "../data/tweets/URI.csv.gz\n",
      "../data/tweets/IRM.csv.gz\n",
      "../data/tweets/VAR.csv.gz\n",
      "../data/tweets/CHRW.csv.gz\n",
      "../data/tweets/MDLZ.csv.gz\n",
      "../data/tweets/CAH.csv.gz\n",
      "../data/tweets/JEC.csv.gz\n",
      "../data/tweets/CBRE.csv.gz\n",
      "../data/tweets/ATVI.csv.gz\n",
      "../data/tweets/DWDP.csv.gz\n",
      "../data/tweets/PRU.csv.gz\n",
      "../data/tweets/AVY.csv.gz\n",
      "../data/tweets/TAP.csv.gz\n",
      "../data/tweets/DG.csv.gz\n",
      "../data/tweets/AFL.csv.gz\n",
      "../data/tweets/DE.csv.gz\n",
      "../data/tweets/JCI.csv.gz\n",
      "../data/tweets/CDNS.csv.gz\n",
      "../data/tweets/UA.csv.gz\n",
      "../data/tweets/EQR.csv.gz\n",
      "../data/tweets/CSCO.csv.gz\n",
      "../data/tweets/ALL.csv.gz\n",
      "../data/tweets/LNC.csv.gz\n",
      "../data/tweets/BBY.csv.gz\n",
      "../data/tweets/INTU.csv.gz\n",
      "../data/tweets/AOS.csv.gz\n",
      "../data/tweets/EXR.csv.gz\n",
      "../data/tweets/MCD.csv.gz\n",
      "../data/tweets/CMA.csv.gz\n",
      "../data/tweets/NEE.csv.gz\n"
     ]
    }
   ],
   "source": [
    "while files:\n",
    "    print(files[0])\n",
    "    symbol, ratios, counts = parse(files[0])\n",
    "    ratios_df[symbol] = ratios\n",
    "    counts_df[symbol] = counts\n",
    "    del files[0]"
   ]
  },
  {
   "cell_type": "code",
   "execution_count": 47,
   "metadata": {},
   "outputs": [
    {
     "data": {
      "text/plain": [
       "298"
      ]
     },
     "execution_count": 47,
     "metadata": {},
     "output_type": "execute_result"
    }
   ],
   "source": [
    "n_good = (counts_df.max() > 100).sum()\n",
    "n_good"
   ]
  },
  {
   "cell_type": "code",
   "execution_count": 46,
   "metadata": {},
   "outputs": [],
   "source": [
    "ratios_df.to_csv(DATA_DIR + 'sentiments.csv')\n",
    "counts_df.to_csv(DATA_DIR + 'tweets_counts.csv')"
   ]
  }
 ],
 "metadata": {
  "kernelspec": {
   "display_name": "Python3.7",
   "language": "python",
   "name": "python3.7"
  },
  "language_info": {
   "codemirror_mode": {
    "name": "ipython",
    "version": 3
   },
   "file_extension": ".py",
   "mimetype": "text/x-python",
   "name": "python",
   "nbconvert_exporter": "python",
   "pygments_lexer": "ipython3",
   "version": "3.7.0"
  }
 },
 "nbformat": 4,
 "nbformat_minor": 2
}
